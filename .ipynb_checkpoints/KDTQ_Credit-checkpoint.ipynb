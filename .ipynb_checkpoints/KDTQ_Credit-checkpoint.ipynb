{
 "cells": [
  {
   "cell_type": "markdown",
   "id": "066175c4-1f64-4cc3-ac04-12ba17a7764a",
   "metadata": {},
   "source": [
    "# 0. Khai báo các thư viện liên quan"
   ]
  },
  {
   "cell_type": "code",
   "execution_count": 1,
   "id": "353abd90-80f2-4ebc-819a-e8ae6ed90396",
   "metadata": {},
   "outputs": [],
   "source": [
    "import pandas as pd\n",
    "from scipy import stats"
   ]
  },
  {
   "cell_type": "markdown",
   "id": "60086713-01c8-4c18-9358-5c20e77deef0",
   "metadata": {},
   "source": [
    "# 1. Đọc dữ liệu từ file CSV"
   ]
  },
  {
   "cell_type": "code",
   "execution_count": 2,
   "id": "e3724202-39b9-4d41-ad7c-ece345d25d9a",
   "metadata": {},
   "outputs": [
    {
     "data": {
      "text/html": [
       "<div>\n",
       "<style scoped>\n",
       "    .dataframe tbody tr th:only-of-type {\n",
       "        vertical-align: middle;\n",
       "    }\n",
       "\n",
       "    .dataframe tbody tr th {\n",
       "        vertical-align: top;\n",
       "    }\n",
       "\n",
       "    .dataframe thead th {\n",
       "        text-align: right;\n",
       "    }\n",
       "</style>\n",
       "<table border=\"1\" class=\"dataframe\">\n",
       "  <thead>\n",
       "    <tr style=\"text-align: right;\">\n",
       "      <th></th>\n",
       "      <th>Unnamed: 0</th>\n",
       "      <th>SeriousDlqin2yrs</th>\n",
       "      <th>RevolvingUtilizationOfUnsecuredLines</th>\n",
       "      <th>age</th>\n",
       "      <th>NumberOfTime30-59DaysPastDueNotWorse</th>\n",
       "      <th>DebtRatio</th>\n",
       "      <th>MonthlyIncome</th>\n",
       "      <th>NumberOfOpenCreditLinesAndLoans</th>\n",
       "      <th>NumberOfTimes90DaysLate</th>\n",
       "      <th>NumberRealEstateLoansOrLines</th>\n",
       "      <th>NumberOfTime60-89DaysPastDueNotWorse</th>\n",
       "      <th>NumberOfDependents</th>\n",
       "    </tr>\n",
       "  </thead>\n",
       "  <tbody>\n",
       "    <tr>\n",
       "      <th>0</th>\n",
       "      <td>9</td>\n",
       "      <td>0</td>\n",
       "      <td>0.116951</td>\n",
       "      <td>27</td>\n",
       "      <td>0</td>\n",
       "      <td>46.000000</td>\n",
       "      <td>NaN</td>\n",
       "      <td>2</td>\n",
       "      <td>0</td>\n",
       "      <td>0</td>\n",
       "      <td>0</td>\n",
       "      <td>NaN</td>\n",
       "    </tr>\n",
       "    <tr>\n",
       "      <th>1</th>\n",
       "      <td>10</td>\n",
       "      <td>0</td>\n",
       "      <td>0.189169</td>\n",
       "      <td>57</td>\n",
       "      <td>0</td>\n",
       "      <td>0.606291</td>\n",
       "      <td>23684.0</td>\n",
       "      <td>9</td>\n",
       "      <td>0</td>\n",
       "      <td>4</td>\n",
       "      <td>0</td>\n",
       "      <td>2.0</td>\n",
       "    </tr>\n",
       "    <tr>\n",
       "      <th>2</th>\n",
       "      <td>11</td>\n",
       "      <td>0</td>\n",
       "      <td>0.644226</td>\n",
       "      <td>30</td>\n",
       "      <td>0</td>\n",
       "      <td>0.309476</td>\n",
       "      <td>2500.0</td>\n",
       "      <td>5</td>\n",
       "      <td>0</td>\n",
       "      <td>0</td>\n",
       "      <td>0</td>\n",
       "      <td>0.0</td>\n",
       "    </tr>\n",
       "    <tr>\n",
       "      <th>3</th>\n",
       "      <td>12</td>\n",
       "      <td>0</td>\n",
       "      <td>0.018798</td>\n",
       "      <td>51</td>\n",
       "      <td>0</td>\n",
       "      <td>0.531529</td>\n",
       "      <td>6501.0</td>\n",
       "      <td>7</td>\n",
       "      <td>0</td>\n",
       "      <td>2</td>\n",
       "      <td>0</td>\n",
       "      <td>2.0</td>\n",
       "    </tr>\n",
       "    <tr>\n",
       "      <th>4</th>\n",
       "      <td>13</td>\n",
       "      <td>0</td>\n",
       "      <td>0.010352</td>\n",
       "      <td>46</td>\n",
       "      <td>0</td>\n",
       "      <td>0.298354</td>\n",
       "      <td>12454.0</td>\n",
       "      <td>13</td>\n",
       "      <td>0</td>\n",
       "      <td>2</td>\n",
       "      <td>0</td>\n",
       "      <td>2.0</td>\n",
       "    </tr>\n",
       "  </tbody>\n",
       "</table>\n",
       "</div>"
      ],
      "text/plain": [
       "   Unnamed: 0  SeriousDlqin2yrs  RevolvingUtilizationOfUnsecuredLines  age  \\\n",
       "0           9                 0                              0.116951   27   \n",
       "1          10                 0                              0.189169   57   \n",
       "2          11                 0                              0.644226   30   \n",
       "3          12                 0                              0.018798   51   \n",
       "4          13                 0                              0.010352   46   \n",
       "\n",
       "   NumberOfTime30-59DaysPastDueNotWorse  DebtRatio  MonthlyIncome  \\\n",
       "0                                     0  46.000000            NaN   \n",
       "1                                     0   0.606291        23684.0   \n",
       "2                                     0   0.309476         2500.0   \n",
       "3                                     0   0.531529         6501.0   \n",
       "4                                     0   0.298354        12454.0   \n",
       "\n",
       "   NumberOfOpenCreditLinesAndLoans  NumberOfTimes90DaysLate  \\\n",
       "0                                2                        0   \n",
       "1                                9                        0   \n",
       "2                                5                        0   \n",
       "3                                7                        0   \n",
       "4                               13                        0   \n",
       "\n",
       "   NumberRealEstateLoansOrLines  NumberOfTime60-89DaysPastDueNotWorse  \\\n",
       "0                             0                                     0   \n",
       "1                             4                                     0   \n",
       "2                             0                                     0   \n",
       "3                             2                                     0   \n",
       "4                             2                                     0   \n",
       "\n",
       "   NumberOfDependents  \n",
       "0                 NaN  \n",
       "1                 2.0  \n",
       "2                 0.0  \n",
       "3                 2.0  \n",
       "4                 2.0  "
      ]
     },
     "execution_count": 2,
     "metadata": {},
     "output_type": "execute_result"
    }
   ],
   "source": [
    "df = pd.read_csv(\"https://s3.ap-southeast-1.amazonaws.com/learn.codegym.vn/media/public/2022/01/26023345/Credit_Scoring.csv\", encoding = \"ISO-8859-1\")\n",
    "df.head()"
   ]
  },
  {
   "cell_type": "code",
   "execution_count": 3,
   "id": "47b549ae-1a28-4da9-a431-ecaa6db464e5",
   "metadata": {},
   "outputs": [
    {
     "name": "stdout",
     "output_type": "stream",
     "text": [
      "<class 'pandas.core.frame.DataFrame'>\n",
      "RangeIndex: 149992 entries, 0 to 149991\n",
      "Data columns (total 12 columns):\n",
      " #   Column                                Non-Null Count   Dtype  \n",
      "---  ------                                --------------   -----  \n",
      " 0   Unnamed: 0                            149992 non-null  int64  \n",
      " 1   SeriousDlqin2yrs                      149992 non-null  int64  \n",
      " 2   RevolvingUtilizationOfUnsecuredLines  149992 non-null  float64\n",
      " 3   age                                   149992 non-null  int64  \n",
      " 4   NumberOfTime30-59DaysPastDueNotWorse  149992 non-null  int64  \n",
      " 5   DebtRatio                             149992 non-null  float64\n",
      " 6   MonthlyIncome                         120262 non-null  float64\n",
      " 7   NumberOfOpenCreditLinesAndLoans       149992 non-null  int64  \n",
      " 8   NumberOfTimes90DaysLate               149992 non-null  int64  \n",
      " 9   NumberRealEstateLoansOrLines          149992 non-null  int64  \n",
      " 10  NumberOfTime60-89DaysPastDueNotWorse  149992 non-null  int64  \n",
      " 11  NumberOfDependents                    146068 non-null  float64\n",
      "dtypes: float64(4), int64(8)\n",
      "memory usage: 13.7 MB\n"
     ]
    }
   ],
   "source": [
    "df.info()"
   ]
  },
  {
   "cell_type": "markdown",
   "id": "60e649b9-0f7f-4805-a700-9cfa2da299ad",
   "metadata": {},
   "source": [
    "# 2. Giữa độ tuổi (age) và thu nhập trung bình theo tháng (MonthlyIncome) có tương quan với nhau hay không"
   ]
  },
  {
   "cell_type": "code",
   "execution_count": 4,
   "id": "ddab1fbd-a4ce-4004-9666-2427a3b3f5da",
   "metadata": {},
   "outputs": [
    {
     "name": "stdout",
     "output_type": "stream",
     "text": [
      "<class 'pandas.core.frame.DataFrame'>\n",
      "Int64Index: 120262 entries, 1 to 149991\n",
      "Data columns (total 2 columns):\n",
      " #   Column         Non-Null Count   Dtype  \n",
      "---  ------         --------------   -----  \n",
      " 0   age            120262 non-null  int64  \n",
      " 1   MonthlyIncome  120262 non-null  float64\n",
      "dtypes: float64(1), int64(1)\n",
      "memory usage: 2.8 MB\n"
     ]
    }
   ],
   "source": [
    "df1 = df.loc[:, [\"age\", \"MonthlyIncome\"]]\n",
    "df1.dropna(inplace = True)\n",
    "df1.info()"
   ]
  },
  {
   "cell_type": "markdown",
   "id": "b6e68061-fb34-4e4b-ab9e-faabc2e4a12a",
   "metadata": {},
   "source": [
    "Do hai thuộc tính trên là thuộc tính định lượng nên có thể sử dụng kiểm định Pearson\n",
    "- Giả thuyết không: Hai thuộc tính không có tương quan\n",
    "- Giả thuyết đối: Hai thuộc tính có tương quan với nhau"
   ]
  },
  {
   "cell_type": "code",
   "execution_count": 5,
   "id": "544dfa1d-2476-44ed-9882-1e30db6386b5",
   "metadata": {},
   "outputs": [
    {
     "data": {
      "text/plain": [
       "(0.03772151543470266, 3.9646572343167475e-39)"
      ]
     },
     "execution_count": 5,
     "metadata": {},
     "output_type": "execute_result"
    }
   ],
   "source": [
    "stats.pearsonr(df1.age, df1.MonthlyIncome)"
   ]
  },
  {
   "cell_type": "markdown",
   "id": "db101b5f-2688-403c-aead-9d84b9d18529",
   "metadata": {},
   "source": [
    "Do pvalue ~ 0 < 0.05 và  r ~ 0 nên hai thuộc tính có tương quan, tuy nhiên không có tương quan tuyến tính"
   ]
  },
  {
   "cell_type": "markdown",
   "id": "262ec4e2-c9fb-43e0-9634-36d1a00ab448",
   "metadata": {},
   "source": [
    "# 3. Giữa số lượng khoản vay (NumberOfOpenCreditLinesAndLoans) và độ tuổi có tương quan với nhau không"
   ]
  },
  {
   "cell_type": "code",
   "execution_count": 6,
   "id": "4c1f93b2-fd95-49af-a1c2-e9d6887980d7",
   "metadata": {},
   "outputs": [
    {
     "name": "stdout",
     "output_type": "stream",
     "text": [
      "<class 'pandas.core.frame.DataFrame'>\n",
      "Int64Index: 149992 entries, 0 to 149991\n",
      "Data columns (total 2 columns):\n",
      " #   Column                           Non-Null Count   Dtype\n",
      "---  ------                           --------------   -----\n",
      " 0   NumberOfOpenCreditLinesAndLoans  149992 non-null  int64\n",
      " 1   age                              149992 non-null  int64\n",
      "dtypes: int64(2)\n",
      "memory usage: 3.4 MB\n"
     ]
    }
   ],
   "source": [
    "df2 = df.loc[:, [\"NumberOfOpenCreditLinesAndLoans\", \"age\"]]\n",
    "df2.dropna(inplace = True)\n",
    "df2.info()"
   ]
  },
  {
   "cell_type": "markdown",
   "id": "4ba56ff7-7fd4-4bdf-b117-2a6457a55fad",
   "metadata": {},
   "source": [
    "Do hai thuộc tính là thuộc tính định lượng nên có thể sử dụng kiểm định Pearson\n",
    "- Giả thuyết không: Hai thuộc tính không có tương quan\n",
    "- Giả thuyết đối: Hai thuộc tính có tương quan"
   ]
  },
  {
   "cell_type": "code",
   "execution_count": 7,
   "id": "62c0b319-38ef-4fb1-84c1-53e6d1d58834",
   "metadata": {},
   "outputs": [
    {
     "data": {
      "text/plain": [
       "(0.14770413180125833, 0.0)"
      ]
     },
     "execution_count": 7,
     "metadata": {},
     "output_type": "execute_result"
    }
   ],
   "source": [
    "stats.pearsonr(df2.NumberOfOpenCreditLinesAndLoans, df2.age)"
   ]
  },
  {
   "cell_type": "markdown",
   "id": "9b616808-7494-4378-a433-9a9afc316619",
   "metadata": {},
   "source": [
    "Do pvalue < 0.05 nên hai thuộc tính có tương quan, tuy nhiên không có tương quan tuyến tính do r < 0.2"
   ]
  },
  {
   "cell_type": "markdown",
   "id": "1ed8f7e1-eb7c-4404-b303-2ad19600612e",
   "metadata": {},
   "source": [
    "# 4. Giữa (số lượng người phụ thuộc) NumberOfDependents và thu nhập theo tháng (MonthlyIncome) có tương quan với nhau hay không"
   ]
  },
  {
   "cell_type": "code",
   "execution_count": 8,
   "id": "cca308a0-744a-41e9-94e5-e6ca81b7436f",
   "metadata": {},
   "outputs": [
    {
     "name": "stdout",
     "output_type": "stream",
     "text": [
      "<class 'pandas.core.frame.DataFrame'>\n",
      "Int64Index: 120262 entries, 1 to 149991\n",
      "Data columns (total 2 columns):\n",
      " #   Column              Non-Null Count   Dtype  \n",
      "---  ------              --------------   -----  \n",
      " 0   NumberOfDependents  120262 non-null  float64\n",
      " 1   MonthlyIncome       120262 non-null  float64\n",
      "dtypes: float64(2)\n",
      "memory usage: 2.8 MB\n"
     ]
    }
   ],
   "source": [
    "df3 = df.loc[:, [\"NumberOfDependents\", \"MonthlyIncome\"]]\n",
    "df3.dropna(inplace = True)\n",
    "df3.info()"
   ]
  },
  {
   "cell_type": "markdown",
   "id": "0aef2a1c-8dbf-4dc9-b270-9286d562ced2",
   "metadata": {},
   "source": [
    "Do hai thuộc tính là thuộc tính định lượng nên có thể sử dụng kiểm định Pearson\n",
    "- Giả thuyết không: Hai thuộc tính không có tương quan\n",
    "- Giả thuyết đối: Hai thuộc tính có tương quan với nhau"
   ]
  },
  {
   "cell_type": "code",
   "execution_count": 9,
   "id": "f187f6ad-02a8-420c-84e4-cf8a0a8f515d",
   "metadata": {},
   "outputs": [
    {
     "data": {
      "text/plain": [
       "(0.06267144549170811, 6.211808987812153e-105)"
      ]
     },
     "execution_count": 9,
     "metadata": {},
     "output_type": "execute_result"
    }
   ],
   "source": [
    "stats.pearsonr(df3.NumberOfDependents, df3.MonthlyIncome)"
   ]
  },
  {
   "cell_type": "markdown",
   "id": "72564a94-e5fd-4a19-a476-cc922a79f00c",
   "metadata": {},
   "source": [
    "Do pvalue < 0.05 nên hai thuộc tính có tương quan với nhau, tuy nhiên không có tương quan tuyến tính do r = 0.063 < 0.2"
   ]
  },
  {
   "cell_type": "markdown",
   "id": "e098c3cd-24ce-464e-8486-3a7b5312b89a",
   "metadata": {},
   "source": [
    "# 5. Mã hóa lại thuộc tính MonthlyIncome thành thuộc tính MonthlyIncome_order theo các khoảng tứ phân vị, giữa thuộc tính mới này và tình trạng nợ xấu trong 2 năm trở lại đây (SeriousDlqin2yrs) có liên quan tới nhau không"
   ]
  },
  {
   "cell_type": "code",
   "execution_count": 10,
   "id": "86eb11b0-4635-4d60-a8f8-6b9f690b5d6b",
   "metadata": {},
   "outputs": [
    {
     "name": "stdout",
     "output_type": "stream",
     "text": [
      "<class 'pandas.core.frame.DataFrame'>\n",
      "Int64Index: 120262 entries, 1 to 149991\n",
      "Data columns (total 3 columns):\n",
      " #   Column                                Non-Null Count   Dtype  \n",
      "---  ------                                --------------   -----  \n",
      " 0   MonthlyIncome                         120262 non-null  float64\n",
      " 1   SeriousDlqin2yrs                      120262 non-null  int64  \n",
      " 2   RevolvingUtilizationOfUnsecuredLines  120262 non-null  float64\n",
      "dtypes: float64(2), int64(1)\n",
      "memory usage: 3.7 MB\n"
     ]
    }
   ],
   "source": [
    "df4 = df.loc[:, [\"MonthlyIncome\", \"SeriousDlqin2yrs\", \"RevolvingUtilizationOfUnsecuredLines\"]]\n",
    "df4.dropna(inplace = True)\n",
    "df4.info()"
   ]
  },
  {
   "cell_type": "code",
   "execution_count": 11,
   "id": "32872897-74b7-44fb-a3da-529631093293",
   "metadata": {},
   "outputs": [],
   "source": [
    "# Chuyển đổi Monthly Income\n",
    "q1, q2, q3 = df4.MonthlyIncome.quantile(0.25), df4.MonthlyIncome.quantile(0.5), df4.MonthlyIncome.quantile(0.75)"
   ]
  },
  {
   "cell_type": "code",
   "execution_count": 12,
   "id": "67e71b96-c011-4f42-a6ff-46d55e7496a0",
   "metadata": {},
   "outputs": [],
   "source": [
    "def MonthlyIncome_Order(series):\n",
    "    if series < q1:\n",
    "        return 1\n",
    "    elif q1 <= series < q2:\n",
    "        return 2\n",
    "    elif q2 <= series < q3:\n",
    "        return 3\n",
    "    else:\n",
    "        return 4\n",
    "\n",
    "df4[\"MonthlyIncome_Order\"] = df4.MonthlyIncome.apply(MonthlyIncome_Order)"
   ]
  },
  {
   "cell_type": "code",
   "execution_count": 13,
   "id": "fc287fc3-65e4-4a7e-9c3c-b6124fdc38c2",
   "metadata": {},
   "outputs": [
    {
     "name": "stdout",
     "output_type": "stream",
     "text": [
      "<class 'pandas.core.frame.DataFrame'>\n",
      "Int64Index: 120262 entries, 1 to 149991\n",
      "Data columns (total 4 columns):\n",
      " #   Column                                Non-Null Count   Dtype  \n",
      "---  ------                                --------------   -----  \n",
      " 0   MonthlyIncome                         120262 non-null  float64\n",
      " 1   SeriousDlqin2yrs                      120262 non-null  int64  \n",
      " 2   RevolvingUtilizationOfUnsecuredLines  120262 non-null  float64\n",
      " 3   MonthlyIncome_Order                   120262 non-null  int64  \n",
      "dtypes: float64(2), int64(2)\n",
      "memory usage: 4.6 MB\n"
     ]
    }
   ],
   "source": [
    "df4.info()"
   ]
  },
  {
   "cell_type": "markdown",
   "id": "e8db5c88-f491-4999-b23f-2b0f7d18e31c",
   "metadata": {},
   "source": [
    "Do thuộc tính MonthlyIncome_Order là thuộc tính thức bậc nên có thể sử dụng kiểm định Spearman\n",
    "- Giả thuyết không: Hai thuộc tính không có tương quan\n",
    "- Giả thuyết đối: Hai thuộc tính có tương quan"
   ]
  },
  {
   "cell_type": "code",
   "execution_count": 14,
   "id": "d30a1e90-668e-4858-a87a-061f3ecdbeec",
   "metadata": {},
   "outputs": [
    {
     "data": {
      "text/plain": [
       "SpearmanrResult(correlation=-0.06835897259572886, pvalue=1.622997394881245e-124)"
      ]
     },
     "execution_count": 14,
     "metadata": {},
     "output_type": "execute_result"
    }
   ],
   "source": [
    "stats.spearmanr(df4.SeriousDlqin2yrs, df4.MonthlyIncome_Order)"
   ]
  },
  {
   "cell_type": "markdown",
   "id": "518c293e-51a4-4c40-b71a-2c3723446b57",
   "metadata": {},
   "source": [
    "Do pvalue << 0 nên hai thuộc tính có tương quan, tuy nhiên không có tương quan tuyến tính do r ~ 0"
   ]
  },
  {
   "cell_type": "markdown",
   "id": "bf338ea0-0796-4792-8fc2-8f1be082de84",
   "metadata": {},
   "source": [
    "# 6. Giữa thuộc tính MonthlyIncome_order với thuộc tính tỉ lệ số dư tài khoản (RevolvingUtilizationOfUnsecuredLines) có mối liên hệ với nhau không"
   ]
  },
  {
   "cell_type": "markdown",
   "id": "7cc63eba-b668-4a08-9253-ac214f447f3c",
   "metadata": {},
   "source": [
    "Sử dụng kiểm định Pearman do thuộc tính MonthlyIncome_Order là thuộc tính thứ bậc\n",
    "- Giả thuyết không: Hai thuộc tính không có tương quan\n",
    "- Giả thuyết đối: Hai thuộc tính có tương quan"
   ]
  },
  {
   "cell_type": "code",
   "execution_count": 15,
   "id": "b769a802-02c1-4ffe-b4fd-746212ad2468",
   "metadata": {},
   "outputs": [
    {
     "data": {
      "text/plain": [
       "SpearmanrResult(correlation=-0.07908587562940676, pvalue=4.1447009935774966e-166)"
      ]
     },
     "execution_count": 15,
     "metadata": {},
     "output_type": "execute_result"
    }
   ],
   "source": [
    "stats.spearmanr(df4.RevolvingUtilizationOfUnsecuredLines, df4.MonthlyIncome_Order)"
   ]
  },
  {
   "cell_type": "markdown",
   "id": "d2a1c886-7958-4ef5-88e6-a9a70b8ce070",
   "metadata": {},
   "source": [
    "Do pvalue << 00.5 nên hai thuộc tính có tương quan, tuy nhiên không có tương quan tuyến tính do r ~ 0"
   ]
  }
 ],
 "metadata": {
  "kernelspec": {
   "display_name": "Python 3 (ipykernel)",
   "language": "python",
   "name": "python3"
  },
  "language_info": {
   "codemirror_mode": {
    "name": "ipython",
    "version": 3
   },
   "file_extension": ".py",
   "mimetype": "text/x-python",
   "name": "python",
   "nbconvert_exporter": "python",
   "pygments_lexer": "ipython3",
   "version": "3.10.1"
  }
 },
 "nbformat": 4,
 "nbformat_minor": 5
}
